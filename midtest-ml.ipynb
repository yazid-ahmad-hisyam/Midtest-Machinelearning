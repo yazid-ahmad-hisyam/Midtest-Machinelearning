{
 "cells": [
  {
   "cell_type": "markdown",
   "id": "91d1ad09",
   "metadata": {},
   "source": [
    "# Wine Quality Prediction - UTS ML\n",
    "# Yazid Ahmad Hisyam\n",
    "# 4112322013"
   ]
  },
  {
   "cell_type": "markdown",
   "id": "19cd1f14",
   "metadata": {},
   "source": [
    "# Import Library\n",
    "Import semua library yang dibutuhkan untuk pemrosesan data, visualisasi, preprocessing, pelatihan model, dan evaluasi."
   ]
  },
  {
   "cell_type": "code",
   "execution_count": 1,
   "id": "3dfff4cc",
   "metadata": {},
   "outputs": [],
   "source": [
    "import pandas as pd\n",
    "import matplotlib.pyplot as plt\n",
    "import seaborn as sns\n",
    "from sklearn.model_selection import train_test_split\n",
    "from sklearn.preprocessing import StandardScaler\n",
    "from sklearn.ensemble import RandomForestClassifier\n",
    "from sklearn.metrics import classification_report, confusion_matrix"
   ]
  },
  {
   "cell_type": "markdown",
   "id": "0bc82b22",
   "metadata": {},
   "source": [
    "# Load Dataset\n",
    "Membaca dataset training dan testing dari file CSV, lalu melihat 5 data pertama."
   ]
  },
  {
   "cell_type": "code",
   "execution_count": 2,
   "id": "2cbf8c6e",
   "metadata": {},
   "outputs": [
    {
     "data": {
      "text/html": [
       "<div>\n",
       "<style scoped>\n",
       "    .dataframe tbody tr th:only-of-type {\n",
       "        vertical-align: middle;\n",
       "    }\n",
       "\n",
       "    .dataframe tbody tr th {\n",
       "        vertical-align: top;\n",
       "    }\n",
       "\n",
       "    .dataframe thead th {\n",
       "        text-align: right;\n",
       "    }\n",
       "</style>\n",
       "<table border=\"1\" class=\"dataframe\">\n",
       "  <thead>\n",
       "    <tr style=\"text-align: right;\">\n",
       "      <th></th>\n",
       "      <th>fixed acidity</th>\n",
       "      <th>volatile acidity</th>\n",
       "      <th>citric acid</th>\n",
       "      <th>residual sugar</th>\n",
       "      <th>chlorides</th>\n",
       "      <th>free sulfur dioxide</th>\n",
       "      <th>total sulfur dioxide</th>\n",
       "      <th>density</th>\n",
       "      <th>pH</th>\n",
       "      <th>sulphates</th>\n",
       "      <th>alcohol</th>\n",
       "      <th>quality</th>\n",
       "      <th>Id</th>\n",
       "    </tr>\n",
       "  </thead>\n",
       "  <tbody>\n",
       "    <tr>\n",
       "      <th>0</th>\n",
       "      <td>7.3</td>\n",
       "      <td>0.740</td>\n",
       "      <td>0.08</td>\n",
       "      <td>1.7</td>\n",
       "      <td>0.094</td>\n",
       "      <td>10.0</td>\n",
       "      <td>45.0</td>\n",
       "      <td>0.99576</td>\n",
       "      <td>3.24</td>\n",
       "      <td>0.50</td>\n",
       "      <td>9.8</td>\n",
       "      <td>5</td>\n",
       "      <td>1366</td>\n",
       "    </tr>\n",
       "    <tr>\n",
       "      <th>1</th>\n",
       "      <td>8.1</td>\n",
       "      <td>0.575</td>\n",
       "      <td>0.22</td>\n",
       "      <td>2.1</td>\n",
       "      <td>0.077</td>\n",
       "      <td>12.0</td>\n",
       "      <td>65.0</td>\n",
       "      <td>0.99670</td>\n",
       "      <td>3.29</td>\n",
       "      <td>0.51</td>\n",
       "      <td>9.2</td>\n",
       "      <td>5</td>\n",
       "      <td>103</td>\n",
       "    </tr>\n",
       "    <tr>\n",
       "      <th>2</th>\n",
       "      <td>10.1</td>\n",
       "      <td>0.430</td>\n",
       "      <td>0.40</td>\n",
       "      <td>2.6</td>\n",
       "      <td>0.092</td>\n",
       "      <td>13.0</td>\n",
       "      <td>52.0</td>\n",
       "      <td>0.99834</td>\n",
       "      <td>3.22</td>\n",
       "      <td>0.64</td>\n",
       "      <td>10.0</td>\n",
       "      <td>7</td>\n",
       "      <td>942</td>\n",
       "    </tr>\n",
       "    <tr>\n",
       "      <th>3</th>\n",
       "      <td>12.9</td>\n",
       "      <td>0.500</td>\n",
       "      <td>0.55</td>\n",
       "      <td>2.8</td>\n",
       "      <td>0.072</td>\n",
       "      <td>7.0</td>\n",
       "      <td>24.0</td>\n",
       "      <td>1.00012</td>\n",
       "      <td>3.09</td>\n",
       "      <td>0.68</td>\n",
       "      <td>10.9</td>\n",
       "      <td>6</td>\n",
       "      <td>811</td>\n",
       "    </tr>\n",
       "    <tr>\n",
       "      <th>4</th>\n",
       "      <td>8.4</td>\n",
       "      <td>0.360</td>\n",
       "      <td>0.32</td>\n",
       "      <td>2.2</td>\n",
       "      <td>0.081</td>\n",
       "      <td>32.0</td>\n",
       "      <td>79.0</td>\n",
       "      <td>0.99640</td>\n",
       "      <td>3.30</td>\n",
       "      <td>0.72</td>\n",
       "      <td>11.0</td>\n",
       "      <td>6</td>\n",
       "      <td>918</td>\n",
       "    </tr>\n",
       "  </tbody>\n",
       "</table>\n",
       "</div>"
      ],
      "text/plain": [
       "   fixed acidity  volatile acidity  citric acid  residual sugar  chlorides  \\\n",
       "0            7.3             0.740         0.08             1.7      0.094   \n",
       "1            8.1             0.575         0.22             2.1      0.077   \n",
       "2           10.1             0.430         0.40             2.6      0.092   \n",
       "3           12.9             0.500         0.55             2.8      0.072   \n",
       "4            8.4             0.360         0.32             2.2      0.081   \n",
       "\n",
       "   free sulfur dioxide  total sulfur dioxide  density    pH  sulphates  \\\n",
       "0                 10.0                  45.0  0.99576  3.24       0.50   \n",
       "1                 12.0                  65.0  0.99670  3.29       0.51   \n",
       "2                 13.0                  52.0  0.99834  3.22       0.64   \n",
       "3                  7.0                  24.0  1.00012  3.09       0.68   \n",
       "4                 32.0                  79.0  0.99640  3.30       0.72   \n",
       "\n",
       "   alcohol  quality    Id  \n",
       "0      9.8        5  1366  \n",
       "1      9.2        5   103  \n",
       "2     10.0        7   942  \n",
       "3     10.9        6   811  \n",
       "4     11.0        6   918  "
      ]
     },
     "execution_count": 2,
     "metadata": {},
     "output_type": "execute_result"
    }
   ],
   "source": [
    "df_train = pd.read_csv('data_training.csv')\n",
    "df_test = pd.read_csv('data_testing.csv')\n",
    "\n",
    "df_train.head()"
   ]
  },
  {
   "cell_type": "markdown",
   "id": "457cb827",
   "metadata": {},
   "source": [
    "Melihat struktur data (jumlah kolom, tipe data, non-null)."
   ]
  },
  {
   "cell_type": "code",
   "execution_count": 3,
   "id": "d139318e",
   "metadata": {},
   "outputs": [
    {
     "name": "stdout",
     "output_type": "stream",
     "text": [
      "<class 'pandas.core.frame.DataFrame'>\n",
      "RangeIndex: 857 entries, 0 to 856\n",
      "Data columns (total 13 columns):\n",
      " #   Column                Non-Null Count  Dtype  \n",
      "---  ------                --------------  -----  \n",
      " 0   fixed acidity         857 non-null    float64\n",
      " 1   volatile acidity      857 non-null    float64\n",
      " 2   citric acid           857 non-null    float64\n",
      " 3   residual sugar        857 non-null    float64\n",
      " 4   chlorides             857 non-null    float64\n",
      " 5   free sulfur dioxide   857 non-null    float64\n",
      " 6   total sulfur dioxide  857 non-null    float64\n",
      " 7   density               857 non-null    float64\n",
      " 8   pH                    857 non-null    float64\n",
      " 9   sulphates             857 non-null    float64\n",
      " 10  alcohol               857 non-null    float64\n",
      " 11  quality               857 non-null    int64  \n",
      " 12  Id                    857 non-null    int64  \n",
      "dtypes: float64(11), int64(2)\n",
      "memory usage: 87.2 KB\n"
     ]
    }
   ],
   "source": [
    "df_train.info()"
   ]
  },
  {
   "cell_type": "markdown",
   "id": "87bb298a",
   "metadata": {},
   "source": [
    "Menampilkan ringkasan statistik (mean, std, min, max, dll) untuk masing-masing fitur."
   ]
  },
  {
   "cell_type": "code",
   "execution_count": 4,
   "id": "d7f87740",
   "metadata": {},
   "outputs": [
    {
     "data": {
      "text/html": [
       "<div>\n",
       "<style scoped>\n",
       "    .dataframe tbody tr th:only-of-type {\n",
       "        vertical-align: middle;\n",
       "    }\n",
       "\n",
       "    .dataframe tbody tr th {\n",
       "        vertical-align: top;\n",
       "    }\n",
       "\n",
       "    .dataframe thead th {\n",
       "        text-align: right;\n",
       "    }\n",
       "</style>\n",
       "<table border=\"1\" class=\"dataframe\">\n",
       "  <thead>\n",
       "    <tr style=\"text-align: right;\">\n",
       "      <th></th>\n",
       "      <th>fixed acidity</th>\n",
       "      <th>volatile acidity</th>\n",
       "      <th>citric acid</th>\n",
       "      <th>residual sugar</th>\n",
       "      <th>chlorides</th>\n",
       "      <th>free sulfur dioxide</th>\n",
       "      <th>total sulfur dioxide</th>\n",
       "      <th>density</th>\n",
       "      <th>pH</th>\n",
       "      <th>sulphates</th>\n",
       "      <th>alcohol</th>\n",
       "      <th>quality</th>\n",
       "      <th>Id</th>\n",
       "    </tr>\n",
       "  </thead>\n",
       "  <tbody>\n",
       "    <tr>\n",
       "      <th>count</th>\n",
       "      <td>857.000000</td>\n",
       "      <td>857.000000</td>\n",
       "      <td>857.000000</td>\n",
       "      <td>857.000000</td>\n",
       "      <td>857.000000</td>\n",
       "      <td>857.000000</td>\n",
       "      <td>857.000000</td>\n",
       "      <td>857.000000</td>\n",
       "      <td>857.000000</td>\n",
       "      <td>857.000000</td>\n",
       "      <td>857.000000</td>\n",
       "      <td>857.000000</td>\n",
       "      <td>857.000000</td>\n",
       "    </tr>\n",
       "    <tr>\n",
       "      <th>mean</th>\n",
       "      <td>8.261960</td>\n",
       "      <td>0.529393</td>\n",
       "      <td>0.267351</td>\n",
       "      <td>2.506184</td>\n",
       "      <td>0.086830</td>\n",
       "      <td>15.782964</td>\n",
       "      <td>45.978413</td>\n",
       "      <td>0.996692</td>\n",
       "      <td>3.313092</td>\n",
       "      <td>0.656709</td>\n",
       "      <td>10.430338</td>\n",
       "      <td>5.653442</td>\n",
       "      <td>813.749125</td>\n",
       "    </tr>\n",
       "    <tr>\n",
       "      <th>std</th>\n",
       "      <td>1.701992</td>\n",
       "      <td>0.179162</td>\n",
       "      <td>0.195144</td>\n",
       "      <td>1.293512</td>\n",
       "      <td>0.048721</td>\n",
       "      <td>10.300402</td>\n",
       "      <td>31.692113</td>\n",
       "      <td>0.001901</td>\n",
       "      <td>0.152079</td>\n",
       "      <td>0.167364</td>\n",
       "      <td>1.066971</td>\n",
       "      <td>0.821777</td>\n",
       "      <td>463.807063</td>\n",
       "    </tr>\n",
       "    <tr>\n",
       "      <th>min</th>\n",
       "      <td>4.600000</td>\n",
       "      <td>0.120000</td>\n",
       "      <td>0.000000</td>\n",
       "      <td>0.900000</td>\n",
       "      <td>0.012000</td>\n",
       "      <td>1.000000</td>\n",
       "      <td>6.000000</td>\n",
       "      <td>0.990070</td>\n",
       "      <td>2.740000</td>\n",
       "      <td>0.390000</td>\n",
       "      <td>8.400000</td>\n",
       "      <td>3.000000</td>\n",
       "      <td>0.000000</td>\n",
       "    </tr>\n",
       "    <tr>\n",
       "      <th>25%</th>\n",
       "      <td>7.100000</td>\n",
       "      <td>0.395000</td>\n",
       "      <td>0.090000</td>\n",
       "      <td>1.900000</td>\n",
       "      <td>0.070000</td>\n",
       "      <td>7.000000</td>\n",
       "      <td>21.000000</td>\n",
       "      <td>0.995520</td>\n",
       "      <td>3.210000</td>\n",
       "      <td>0.550000</td>\n",
       "      <td>9.500000</td>\n",
       "      <td>5.000000</td>\n",
       "      <td>413.000000</td>\n",
       "    </tr>\n",
       "    <tr>\n",
       "      <th>50%</th>\n",
       "      <td>7.900000</td>\n",
       "      <td>0.520000</td>\n",
       "      <td>0.250000</td>\n",
       "      <td>2.200000</td>\n",
       "      <td>0.079000</td>\n",
       "      <td>14.000000</td>\n",
       "      <td>38.000000</td>\n",
       "      <td>0.996680</td>\n",
       "      <td>3.310000</td>\n",
       "      <td>0.620000</td>\n",
       "      <td>10.200000</td>\n",
       "      <td>6.000000</td>\n",
       "      <td>814.000000</td>\n",
       "    </tr>\n",
       "    <tr>\n",
       "      <th>75%</th>\n",
       "      <td>9.100000</td>\n",
       "      <td>0.640000</td>\n",
       "      <td>0.420000</td>\n",
       "      <td>2.600000</td>\n",
       "      <td>0.090000</td>\n",
       "      <td>21.000000</td>\n",
       "      <td>63.000000</td>\n",
       "      <td>0.997800</td>\n",
       "      <td>3.400000</td>\n",
       "      <td>0.730000</td>\n",
       "      <td>11.100000</td>\n",
       "      <td>6.000000</td>\n",
       "      <td>1214.000000</td>\n",
       "    </tr>\n",
       "    <tr>\n",
       "      <th>max</th>\n",
       "      <td>15.600000</td>\n",
       "      <td>1.580000</td>\n",
       "      <td>1.000000</td>\n",
       "      <td>15.500000</td>\n",
       "      <td>0.611000</td>\n",
       "      <td>68.000000</td>\n",
       "      <td>278.000000</td>\n",
       "      <td>1.003200</td>\n",
       "      <td>4.010000</td>\n",
       "      <td>2.000000</td>\n",
       "      <td>14.000000</td>\n",
       "      <td>8.000000</td>\n",
       "      <td>1597.000000</td>\n",
       "    </tr>\n",
       "  </tbody>\n",
       "</table>\n",
       "</div>"
      ],
      "text/plain": [
       "       fixed acidity  volatile acidity  citric acid  residual sugar  \\\n",
       "count     857.000000        857.000000   857.000000      857.000000   \n",
       "mean        8.261960          0.529393     0.267351        2.506184   \n",
       "std         1.701992          0.179162     0.195144        1.293512   \n",
       "min         4.600000          0.120000     0.000000        0.900000   \n",
       "25%         7.100000          0.395000     0.090000        1.900000   \n",
       "50%         7.900000          0.520000     0.250000        2.200000   \n",
       "75%         9.100000          0.640000     0.420000        2.600000   \n",
       "max        15.600000          1.580000     1.000000       15.500000   \n",
       "\n",
       "        chlorides  free sulfur dioxide  total sulfur dioxide     density  \\\n",
       "count  857.000000           857.000000            857.000000  857.000000   \n",
       "mean     0.086830            15.782964             45.978413    0.996692   \n",
       "std      0.048721            10.300402             31.692113    0.001901   \n",
       "min      0.012000             1.000000              6.000000    0.990070   \n",
       "25%      0.070000             7.000000             21.000000    0.995520   \n",
       "50%      0.079000            14.000000             38.000000    0.996680   \n",
       "75%      0.090000            21.000000             63.000000    0.997800   \n",
       "max      0.611000            68.000000            278.000000    1.003200   \n",
       "\n",
       "               pH   sulphates     alcohol     quality           Id  \n",
       "count  857.000000  857.000000  857.000000  857.000000   857.000000  \n",
       "mean     3.313092    0.656709   10.430338    5.653442   813.749125  \n",
       "std      0.152079    0.167364    1.066971    0.821777   463.807063  \n",
       "min      2.740000    0.390000    8.400000    3.000000     0.000000  \n",
       "25%      3.210000    0.550000    9.500000    5.000000   413.000000  \n",
       "50%      3.310000    0.620000   10.200000    6.000000   814.000000  \n",
       "75%      3.400000    0.730000   11.100000    6.000000  1214.000000  \n",
       "max      4.010000    2.000000   14.000000    8.000000  1597.000000  "
      ]
     },
     "execution_count": 4,
     "metadata": {},
     "output_type": "execute_result"
    }
   ],
   "source": [
    "df_train.describe()"
   ]
  },
  {
   "cell_type": "markdown",
   "id": "d69906e4",
   "metadata": {},
   "source": [
    "Mengecek jumlah data yang hilang/null di tiap kolom dataset training dan testing."
   ]
  },
  {
   "cell_type": "code",
   "execution_count": 5,
   "id": "bc8db567",
   "metadata": {},
   "outputs": [
    {
     "data": {
      "text/plain": [
       "fixed acidity           0\n",
       "volatile acidity        0\n",
       "citric acid             0\n",
       "residual sugar          0\n",
       "chlorides               0\n",
       "free sulfur dioxide     0\n",
       "total sulfur dioxide    0\n",
       "density                 0\n",
       "pH                      0\n",
       "sulphates               0\n",
       "alcohol                 0\n",
       "quality                 0\n",
       "Id                      0\n",
       "dtype: int64"
      ]
     },
     "execution_count": 5,
     "metadata": {},
     "output_type": "execute_result"
    }
   ],
   "source": [
    "# Data Training\n",
    "missing_values = df_train.isnull().sum()\n",
    "missing_values"
   ]
  },
  {
   "cell_type": "code",
   "execution_count": 6,
   "id": "90cdebae",
   "metadata": {},
   "outputs": [
    {
     "data": {
      "text/plain": [
       "fixed acidity           0\n",
       "volatile acidity        0\n",
       "citric acid             0\n",
       "residual sugar          0\n",
       "chlorides               0\n",
       "free sulfur dioxide     0\n",
       "total sulfur dioxide    0\n",
       "density                 0\n",
       "pH                      0\n",
       "sulphates               0\n",
       "alcohol                 0\n",
       "Id                      0\n",
       "dtype: int64"
      ]
     },
     "execution_count": 6,
     "metadata": {},
     "output_type": "execute_result"
    }
   ],
   "source": [
    "# Data Testing\n",
    "missing_values = df_test.isnull().sum()\n",
    "missing_values"
   ]
  },
  {
   "cell_type": "markdown",
   "id": "b5ae599b",
   "metadata": {},
   "source": [
    "# Visualisasi Distribusi Kelas"
   ]
  },
  {
   "cell_type": "markdown",
   "id": "49ee379d",
   "metadata": {},
   "source": [
    "Menampilkan grafik distribusi nilai quality pada data training (sebelum dibinerisasi)."
   ]
  },
  {
   "cell_type": "code",
   "execution_count": 7,
   "id": "aca8df39",
   "metadata": {},
   "outputs": [
    {
     "name": "stderr",
     "output_type": "stream",
     "text": [
      "C:\\Users\\yazid\\AppData\\Local\\Temp\\ipykernel_22284\\1440407753.py:4: FutureWarning: \n",
      "\n",
      "Passing `palette` without assigning `hue` is deprecated and will be removed in v0.14.0. Assign the `x` variable to `hue` and set `legend=False` for the same effect.\n",
      "\n",
      "  sns.countplot(x='quality', data=df_train, palette='viridis')\n"
     ]
    },
    {
     "data": {
      "text/plain": [
       "<function matplotlib.pyplot.show(close=None, block=None)>"
      ]
     },
     "execution_count": 7,
     "metadata": {},
     "output_type": "execute_result"
    },
    {
     "data": {
      "image/png": "[encoded data removed]",
      "text/plain": [
       "<Figure size 800x500 with 1 Axes>"
      ]
     },
     "metadata": {},
     "output_type": "display_data"
    }
   ],
   "source": [
    "sns.set(style=\"whitegrid\")\n",
    "\n",
    "plt.figure(figsize=(8, 5))\n",
    "sns.countplot(x='quality', data=df_train, palette='viridis')\n",
    "plt.title('Distribusi Nilai Kualitas Anggur')\n",
    "plt.xlabel('Kualitas')\n",
    "plt.ylabel('Jumlah Sampel')\n",
    "plt.xticks(rotation=0)\n",
    "plt.tight_layout()\n",
    "plt.show"
   ]
  },
  {
   "cell_type": "code",
   "execution_count": 8,
   "id": "e1e6dcef",
   "metadata": {},
   "outputs": [
    {
     "data": {
      "text/plain": [
       "quality\n",
       "1    463\n",
       "0    394\n",
       "Name: count, dtype: int64"
      ]
     },
     "execution_count": 8,
     "metadata": {},
     "output_type": "execute_result"
    }
   ],
   "source": [
    "# Salin agar dataframe data asli tetap utuh\n",
    "df_train_binary = df_train.copy()\n",
    "df_test_binary = df_test.copy()\n",
    "\n",
    "# Ubah quality menjadi biner : 0 rendah (<=5), 1 = tinggi (>=6)\n",
    "df_train_binary['quality'] = (df_train_binary['quality'] >= 6).astype(int)\n",
    "\n",
    "# Cek distribusi setelah binerisasi\n",
    "quality_counts = df_train_binary['quality'].value_counts()\n",
    "quality_counts"
   ]
  },
  {
   "cell_type": "markdown",
   "id": "37bf9ec9",
   "metadata": {},
   "source": [
    "# Split Data Training, Validasi dan Normalisasi Data"
   ]
  },
  {
   "cell_type": "code",
   "execution_count": 9,
   "id": "4d8b0c6c",
   "metadata": {},
   "outputs": [],
   "source": [
    "# Pisahkan fitur dan target\n",
    "X = df_train_binary.drop(columns=['quality', 'Id'])\n",
    "y = df_train_binary['quality']\n",
    "\n",
    "# Bagi data menjadi training dan validasi\n",
    "X_train, X_val, y_train, y_val = train_test_split(X, y, test_size=0.2, random_state=42, stratify=y)\n",
    "\n",
    "# Normalisasi Fitur\n",
    "scaler = StandardScaler()\n",
    "X_train_scaled = scaler.fit_transform(X_train)\n",
    "X_val_scaled = scaler.transform(X_val)"
   ]
  },
  {
   "cell_type": "markdown",
   "id": "38c411a7",
   "metadata": {},
   "source": [
    "# Training Random Forest dan Evaluasi Model"
   ]
  },
  {
   "cell_type": "markdown",
   "id": "955782f1",
   "metadata": {},
   "source": [
    "Melatih model Random Forest menggunakan data training yang sudah dinormalisasi."
   ]
  },
  {
   "cell_type": "markdown",
   "id": "46d2903a",
   "metadata": {},
   "source": [
    "Melakukan prediksi pada data validasi, menghitung confusion matrix dan classification report."
   ]
  },
  {
   "cell_type": "code",
   "execution_count": 10,
   "id": "cfafc8bc",
   "metadata": {},
   "outputs": [
    {
     "name": "stdout",
     "output_type": "stream",
     "text": [
      "              precision    recall  f1-score   support\n",
      "\n",
      "           0       0.75      0.77      0.76        79\n",
      "           1       0.80      0.78      0.79        93\n",
      "\n",
      "    accuracy                           0.78       172\n",
      "   macro avg       0.78      0.78      0.78       172\n",
      "weighted avg       0.78      0.78      0.78       172\n",
      "\n"
     ]
    }
   ],
   "source": [
    "rf = RandomForestClassifier(random_state=42)\n",
    "rf.fit(X_train_scaled, y_train)\n",
    "\n",
    "y_pred = rf.predict(X_val_scaled)\n",
    "conf_matrix = confusion_matrix(y_val, y_pred)\n",
    "class_report = classification_report(y_val, y_pred, output_dict=True)\n",
    "\n",
    "print(classification_report(y_val, y_pred))"
   ]
  },
  {
   "cell_type": "markdown",
   "id": "ea1195ec",
   "metadata": {},
   "source": [
    "# Prediksi Data Test"
   ]
  },
  {
   "cell_type": "markdown",
   "id": "f574b75f",
   "metadata": {},
   "source": [
    "Melakukan preprocessing pada data test dan prediksi menggunakan model yang telah dilatih."
   ]
  },
  {
   "cell_type": "code",
   "execution_count": 11,
   "id": "5217d2c2",
   "metadata": {},
   "outputs": [
    {
     "data": {
      "text/html": [
       "<div>\n",
       "<style scoped>\n",
       "    .dataframe tbody tr th:only-of-type {\n",
       "        vertical-align: middle;\n",
       "    }\n",
       "\n",
       "    .dataframe tbody tr th {\n",
       "        vertical-align: top;\n",
       "    }\n",
       "\n",
       "    .dataframe thead th {\n",
       "        text-align: right;\n",
       "    }\n",
       "</style>\n",
       "<table border=\"1\" class=\"dataframe\">\n",
       "  <thead>\n",
       "    <tr style=\"text-align: right;\">\n",
       "      <th></th>\n",
       "      <th>Id</th>\n",
       "      <th>predicted_quality</th>\n",
       "    </tr>\n",
       "  </thead>\n",
       "  <tbody>\n",
       "    <tr>\n",
       "      <th>0</th>\n",
       "      <td>222</td>\n",
       "      <td>0</td>\n",
       "    </tr>\n",
       "    <tr>\n",
       "      <th>1</th>\n",
       "      <td>1514</td>\n",
       "      <td>1</td>\n",
       "    </tr>\n",
       "    <tr>\n",
       "      <th>2</th>\n",
       "      <td>417</td>\n",
       "      <td>0</td>\n",
       "    </tr>\n",
       "    <tr>\n",
       "      <th>3</th>\n",
       "      <td>754</td>\n",
       "      <td>0</td>\n",
       "    </tr>\n",
       "    <tr>\n",
       "      <th>4</th>\n",
       "      <td>516</td>\n",
       "      <td>1</td>\n",
       "    </tr>\n",
       "  </tbody>\n",
       "</table>\n",
       "</div>"
      ],
      "text/plain": [
       "     Id  predicted_quality\n",
       "0   222                  0\n",
       "1  1514                  1\n",
       "2   417                  0\n",
       "3   754                  0\n",
       "4   516                  1"
      ]
     },
     "execution_count": 11,
     "metadata": {},
     "output_type": "execute_result"
    }
   ],
   "source": [
    "X_test =  df_test.drop(columns=['Id'])\n",
    "X_test_scaled = scaler.transform(X_test)\n",
    "\n",
    "test_predictions = rf.predict(X_test_scaled)\n",
    "\n",
    "df_test_results = df_test.copy()\n",
    "df_test_results['predicted_quality'] = test_predictions\n",
    "\n",
    "df_test_results[['Id','predicted_quality']].head()"
   ]
  },
  {
   "cell_type": "markdown",
   "id": "350391af",
   "metadata": {},
   "source": [
    "# Simpan Hasil Prediksi"
   ]
  },
  {
   "cell_type": "markdown",
   "id": "c190e15e",
   "metadata": {},
   "source": [
    "Menambahkan hasil prediksi ke dataframe test dan menyimpannya ke file CSV."
   ]
  },
  {
   "cell_type": "code",
   "execution_count": 12,
   "id": "d45881f6",
   "metadata": {},
   "outputs": [],
   "source": [
    "df_test_results[['Id','predicted_quality']].to_csv('hasilprediksi_013.csv', index=False)"
   ]
  }
 ],
 "metadata": {
  "language_info": {
   "name": "python"
  }
 },
 "nbformat": 4,
 "nbformat_minor": 5
}
